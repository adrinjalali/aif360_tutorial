{
 "cells": [
  {
   "cell_type": "markdown",
   "metadata": {},
   "source": [
    "### This notebook can be used to download the Medical Expenditure Panel Survey (MEPS) data files for 2015 and 2016 and convert the files from SAS transport format into standard CSV files."
   ]
  },
  {
   "cell_type": "markdown",
   "metadata": {},
   "source": [
    "### By using this script you acknowledge the responsibility for reading and abiding by any copyright/usage rules and restrictions as stated on the MEPS web site (https://meps.ahrq.gov/data_stats/data_use.jsp)"
   ]
  },
  {
   "cell_type": "code",
   "execution_count": null,
   "metadata": {},
   "outputs": [],
   "source": [
    "#MEPS\n",
    "setwd('../AIF360/aif360/data/raw/meps')"
   ]
  },
  {
   "cell_type": "code",
   "execution_count": null,
   "metadata": {},
   "outputs": [],
   "source": [
    "#!/usr/bin/env Rscript\n",
    "\n",
    "\n",
    "\n",
    "if (!require(\"foreign\")) {\n",
    "    install.packages(\"foreign\")\n",
    "    library(foreign)\n",
    "}\n",
    "\n",
    "convert <- function(ssp_file, csv_file) {\n",
    "    message(\"Loading dataframe from file: \", ssp_file)\n",
    "    df = read.xport(ssp_file)\n",
    "    message(\"Exporting dataframe to file: \", csv_file)\n",
    "    write.csv(df, file=csv_file, row.names=FALSE, quote=FALSE)\n",
    "}\n",
    "\n",
    "for (dataset in c(\"h181\", \"h192\")) {\n",
    "    zip_file <- paste(dataset, \"ssp.zip\", sep=\"\")\n",
    "    ssp_file <- paste(dataset, \"ssp\", sep=\".\")\n",
    "    csv_file <- paste(dataset, \"csv\", sep=\".\")\n",
    "    url <- paste(\"https://meps.ahrq.gov/mepsweb/data_files/pufs\", zip_file, sep=\"/\")\n",
    "\n",
    "    # skip to next dataset if we already have the CSV file\n",
    "    if (file.exists(csv_file)) {\n",
    "        message(csv_file, \" already exists\")\n",
    "        next\n",
    "    }\n",
    "\n",
    "    # download the zip file only if not downloaded before\n",
    "    if (!file.exists(zip_file)) {\n",
    "        download.file(url, destfile=zip_file)\n",
    "    }\n",
    "\n",
    "    # unzip and convert the dataset from SAS transport format to CSV\n",
    "    unzip(zip_file)\n",
    "    convert(ssp_file, csv_file)\n",
    "\n",
    "    # clean up temporary files if we got the CSV file\n",
    "    if (file.exists(csv_file)) {\n",
    "        file.remove(zip_file)\n",
    "        file.remove(ssp_file)\n",
    "    }\n",
    "}"
   ]
  },
  {
   "cell_type": "code",
   "execution_count": null,
   "metadata": {},
   "outputs": [],
   "source": []
  }
 ],
 "metadata": {
  "kernelspec": {
   "display_name": "Python 3",
   "language": "python",
   "name": "python3"
  },
  "language_info": {
   "codemirror_mode": {
    "name": "ipython",
    "version": 3
   },
   "file_extension": ".py",
   "mimetype": "text/x-python",
   "name": "python",
   "nbconvert_exporter": "python",
   "pygments_lexer": "ipython3",
   "version": "3.6.7"
  }
 },
 "nbformat": 4,
 "nbformat_minor": 2
}
